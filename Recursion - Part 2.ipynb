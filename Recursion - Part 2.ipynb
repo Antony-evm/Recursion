{
 "cells": [
  {
   "cell_type": "markdown",
   "id": "promotional-language",
   "metadata": {},
   "source": [
    "## Checker Board Puzzle\n",
    "\n",
    "How do you cover a checkerboard that has one corner square missing, using L-shaped tiles?"
   ]
  },
  {
   "cell_type": "code",
   "execution_count": 28,
   "id": "sublime-mandate",
   "metadata": {},
   "outputs": [
    {
     "name": "stdout",
     "output_type": "stream",
     "text": [
      "[[ 0  0  0  0  0  0  0  0]\n",
      " [ 0  0  0  0  0  0  0  0]\n",
      " [ 0  0  0  0  0  0  0  0]\n",
      " [ 0  0  0  0  0  0  0  0]\n",
      " [ 0  0  0  0  0  0  0  0]\n",
      " [ 0  0  0  0  0  0  0  0]\n",
      " [ 0  0  0  0  0  0  0  0]\n",
      " [ 0  0  0  0  0  0  0 -1]]\n"
     ]
    }
   ],
   "source": [
    "import numpy as np\n",
    "def generate_problem(n):\n",
    "    board = [[0]*n for i in range(n)]\n",
    "    board[n-1][n-1] = -1\n",
    "    return board\n",
    "board = generate_problem(8)\n",
    "print(np.matrix(board))"
   ]
  },
  {
   "cell_type": "code",
   "execution_count": 29,
   "id": "planned-placement",
   "metadata": {},
   "outputs": [],
   "source": [
    "def cover(board, lab=1, top=0, left=0,side=None):\n",
    "    if not side: side = len(board)\n",
    "    s = side // 2\n",
    "    offsets = (0, -1), (side-1, 0)\n",
    "    for dy_outer, dy_inner in offsets:\n",
    "        for dx_outer, dx_inner in offsets:\n",
    "             if not board[top+dy_outer][left+dx_outer]:\n",
    "                    board[top+s+dy_inner][left+s+dx_inner] = lab\n",
    "    lab += 1\n",
    "    if s > 1:\n",
    "        for dy in [0, s]:\n",
    "            for dx in [0, s]:\n",
    "                lab = cover(board, lab, top+dy, left+dx, s)\n",
    "    return lab "
   ]
  },
  {
   "cell_type": "code",
   "execution_count": 30,
   "id": "diagnostic-figure",
   "metadata": {},
   "outputs": [
    {
     "name": "stdout",
     "output_type": "stream",
     "text": [
      "[[ 3  3  4  4  8  8  9  9]\n",
      " [ 3  2  2  4  8  7  7  9]\n",
      " [ 5  2  6  6 10 10  7 11]\n",
      " [ 5  5  6  1  1 10 11 11]\n",
      " [13 13 14  1 18 18 19 19]\n",
      " [13 12 14 14 18 17 17 19]\n",
      " [15 12 12 16 20 17 21 21]\n",
      " [15 15 16 16 20 20 21 -1]]\n"
     ]
    }
   ],
   "source": [
    "cover(board)\n",
    "print(np.matrix(board))"
   ]
  },
  {
   "cell_type": "markdown",
   "id": "sized-softball",
   "metadata": {},
   "source": [
    "## TopSort in DAGs"
   ]
  },
  {
   "cell_type": "code",
   "execution_count": 100,
   "id": "dense-politics",
   "metadata": {},
   "outputs": [],
   "source": [
    "def topsort(G):\n",
    "    visited = [False]*len(G)\n",
    "    stack =[]\n",
    "\n",
    "    for i in range(len(G)):\n",
    "        if visited[i] == False:\n",
    "                topsort_util(i,visited,stack)\n",
    "    return stack\n",
    "\n",
    "def topsort_util(v,visited,stack):\n",
    "        visited[v] = True\n",
    "        for idx,i in enumerate(G[v]):\n",
    "            if i==1:\n",
    "                if visited[idx] == False:\n",
    "                    topsort_util(idx,visited,stack)\n",
    "        stack.insert(0,v)\n",
    "\n",
    "            "
   ]
  },
  {
   "cell_type": "code",
   "execution_count": 108,
   "id": "current-moment",
   "metadata": {},
   "outputs": [
    {
     "data": {
      "text/plain": [
       "defaultdict(list, {0: [0], 1: [0, 3], 2: [0, 2, 3], 3: [0, 3], 4: [2, 3]})"
      ]
     },
     "execution_count": 108,
     "metadata": {},
     "output_type": "execute_result"
    }
   ],
   "source": [
    "g.graph"
   ]
  },
  {
   "cell_type": "code",
   "execution_count": 110,
   "id": "legal-nebraska",
   "metadata": {},
   "outputs": [],
   "source": [
    "def naive_topsort(G, S=None): \n",
    "\n",
    "    if S is None: S = set(G) # Default: All nodes\n",
    "    if len(S) == 1: return list(S) # Base case, single node\n",
    "    v = S.pop() # Reduction: Remove a node\n",
    "    seq = naive_topsort(G, S) # Recursion (assumption), n-1\n",
    "    min_i = 0\n",
    "    for i, u in enumerate(seq):\n",
    "        if v in G[u] : min_i = i+1 # After all dependencies\n",
    "    seq.insert(min_i, v)\n",
    "    return seq"
   ]
  },
  {
   "cell_type": "code",
   "execution_count": 114,
   "id": "incorporate-tradition",
   "metadata": {},
   "outputs": [
    {
     "data": {
      "text/plain": [
       "[1, 4, 2, 3, 0]"
      ]
     },
     "execution_count": 114,
     "metadata": {},
     "output_type": "execute_result"
    }
   ],
   "source": [
    "naive_topsort(g.graph)"
   ]
  },
  {
   "cell_type": "code",
   "execution_count": 113,
   "id": "potential-navigation",
   "metadata": {},
   "outputs": [
    {
     "name": "stdout",
     "output_type": "stream",
     "text": [
      "[4, 2, 1, 3, 0]\n"
     ]
    }
   ],
   "source": [
    "g.topologicalSort()"
   ]
  },
  {
   "cell_type": "code",
   "execution_count": 60,
   "id": "industrial-friend",
   "metadata": {},
   "outputs": [],
   "source": [
    "import random\n",
    "def generate_problem(n):\n",
    "    return {i:[random.randint(0,1) for _ in range(n)] for i in range(n)}"
   ]
  },
  {
   "cell_type": "code",
   "execution_count": 102,
   "id": "southwest-alliance",
   "metadata": {
    "scrolled": true
   },
   "outputs": [
    {
     "data": {
      "text/plain": [
       "{0: [1, 0, 0, 1, 0],\n",
       " 1: [1, 1, 0, 1, 1],\n",
       " 2: [1, 1, 0, 1, 0],\n",
       " 3: [0, 1, 0, 0, 0],\n",
       " 4: [1, 0, 0, 1, 1]}"
      ]
     },
     "execution_count": 102,
     "metadata": {},
     "output_type": "execute_result"
    }
   ],
   "source": [
    "G = generate_problem(5)\n",
    "G"
   ]
  },
  {
   "cell_type": "code",
   "execution_count": 104,
   "id": "happy-banking",
   "metadata": {},
   "outputs": [
    {
     "data": {
      "text/plain": [
       "[2, 0, 3, 1, 4]"
      ]
     },
     "execution_count": 104,
     "metadata": {},
     "output_type": "execute_result"
    }
   ],
   "source": [
    "topsort(G)"
   ]
  },
  {
   "cell_type": "markdown",
   "id": "obvious-background",
   "metadata": {},
   "source": [
    "## Subsets of an array\n",
    "\n",
    "Given an array, print all possible subsets"
   ]
  },
  {
   "cell_type": "code",
   "execution_count": 115,
   "id": "insured-specialist",
   "metadata": {},
   "outputs": [],
   "source": [
    "def generate_problem(n):\n",
    "    return [random.randint(0,100) for _ in range(n)]"
   ]
  },
  {
   "cell_type": "code",
   "execution_count": 195,
   "id": "mineral-heather",
   "metadata": {},
   "outputs": [
    {
     "name": "stdout",
     "output_type": "stream",
     "text": [
      "[84, 31, 51]\n"
     ]
    },
    {
     "data": {
      "text/plain": [
       "[36, 70, 67, 39, 28, 83, 38, 65, 64, 90]"
      ]
     },
     "execution_count": 195,
     "metadata": {},
     "output_type": "execute_result"
    }
   ],
   "source": [
    "x = generate_problem(3)\n",
    "print(x)\n",
    "y = generate_problem(10)\n",
    "y"
   ]
  },
  {
   "cell_type": "code",
   "execution_count": 232,
   "id": "rotary-response",
   "metadata": {},
   "outputs": [
    {
     "data": {
      "text/plain": [
       "[[], [], [], []]"
      ]
     },
     "execution_count": 232,
     "metadata": {},
     "output_type": "execute_result"
    }
   ],
   "source": [
    "def subset_generation(arr):\n",
    "    res = []\n",
    "    subsets(arr,[],0,res)\n",
    "    return res\n",
    "def subsets(arr, subset, index,res):\n",
    "    res.append(subset)\n",
    "    for i in range(index, len(arr)):\n",
    "        subset.append(arr[i])\n",
    "        subsets(arr, subset, i + 1)\n",
    "        subset.pop(-1)\n",
    "    return\n",
    "\n",
    "prisubset_generation(x,[],0)\n",
    "\n",
    "print()\n",
    "\n",
    "subset_generation(x,[],0)\n"
   ]
  },
  {
   "cell_type": "markdown",
   "id": "ceramic-locator",
   "metadata": {},
   "source": [
    "## Combination Sum\n",
    "\n",
    "Given an array of positive integers arr[] and an integer x, The task is to find all unique combinations in arr[] where the sum is equal to x. \n",
    "The same repeated number may be chosen from arr[] an unlimited number of times. Elements in a combination (a1, a2, …, ak) must be printed in non-descending order. (ie, a1 <= a2 <= … <= ak)"
   ]
  },
  {
   "cell_type": "code",
   "execution_count": 202,
   "id": "dimensional-alarm",
   "metadata": {},
   "outputs": [],
   "source": [
    "def generate_problem(n):\n",
    "    return [random.randint(0,100) for _ in range(n)],random.randint(0,100)"
   ]
  },
  {
   "cell_type": "code",
   "execution_count": 219,
   "id": "material-worst",
   "metadata": {},
   "outputs": [
    {
     "name": "stdout",
     "output_type": "stream",
     "text": [
      "([52, 24, 53, 51, 32], 30)\n"
     ]
    },
    {
     "data": {
      "text/plain": [
       "([64, 6, 18, 95, 19, 25, 11, 95, 44, 34], 52)"
      ]
     },
     "execution_count": 219,
     "metadata": {},
     "output_type": "execute_result"
    }
   ],
   "source": [
    "x = generate_problem(5)\n",
    "print(x)\n",
    "y = generate_problem(10)\n",
    "y"
   ]
  },
  {
   "cell_type": "code",
   "execution_count": 220,
   "id": "ordered-shanghai",
   "metadata": {},
   "outputs": [],
   "source": [
    "def combination_sum(arr, target):\n",
    "    ans,temp = [],[]\n",
    "    arr = sorted(list(set(arr)))\n",
    "    findNumbers(ans, arr, temp, target, 0)\n",
    "    return ans\n",
    " \n",
    "def findNumbers(ans, arr, temp, target, index):\n",
    "    if(target == 0):\n",
    "        ans.append(list(temp))\n",
    "        return\n",
    "    for i in range(index, len(arr)):\n",
    " \n",
    "        if(target - arr[i]) >= 0:\n",
    "            temp.append(arr[i])\n",
    "            findNumbers(ans, arr, temp, target-arr[i], i)\n",
    "            temp.remove(arr[i])"
   ]
  },
  {
   "cell_type": "code",
   "execution_count": 229,
   "id": "static-scott",
   "metadata": {
    "scrolled": true
   },
   "outputs": [
    {
     "data": {
      "text/plain": [
       "[]"
      ]
     },
     "execution_count": 229,
     "metadata": {},
     "output_type": "execute_result"
    }
   ],
   "source": [
    "combination_sum(x[0],x[1])"
   ]
  },
  {
   "cell_type": "code",
   "execution_count": 228,
   "id": "weighted-alias",
   "metadata": {},
   "outputs": [
    {
     "data": {
      "text/plain": [
       "[[6, 6, 6, 6, 6, 11, 11],\n",
       " [6, 6, 6, 34],\n",
       " [6, 6, 11, 11, 18],\n",
       " [11, 11, 11, 19],\n",
       " [18, 34]]"
      ]
     },
     "execution_count": 228,
     "metadata": {},
     "output_type": "execute_result"
    }
   ],
   "source": [
    "combination_sum(y[0],y[1])"
   ]
  },
  {
   "cell_type": "code",
   "execution_count": null,
   "id": "loved-surveillance",
   "metadata": {},
   "outputs": [],
   "source": []
  }
 ],
 "metadata": {
  "kernelspec": {
   "display_name": "Python 3",
   "language": "python",
   "name": "python3"
  },
  "language_info": {
   "codemirror_mode": {
    "name": "ipython",
    "version": 3
   },
   "file_extension": ".py",
   "mimetype": "text/x-python",
   "name": "python",
   "nbconvert_exporter": "python",
   "pygments_lexer": "ipython3",
   "version": "3.9.2"
  }
 },
 "nbformat": 4,
 "nbformat_minor": 5
}
