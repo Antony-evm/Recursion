{
 "cells": [
  {
   "cell_type": "markdown",
   "id": "creative-buyer",
   "metadata": {},
   "source": [
    "## Checker Board Puzzle\n",
    "\n",
    "How do you cover a checkerboard that has one corner square missing, using L-shaped tiles?"
   ]
  },
  {
   "cell_type": "code",
   "execution_count": 28,
   "id": "baking-mathematics",
   "metadata": {},
   "outputs": [
    {
     "name": "stdout",
     "output_type": "stream",
     "text": [
      "[[ 0  0  0  0  0  0  0  0]\n",
      " [ 0  0  0  0  0  0  0  0]\n",
      " [ 0  0  0  0  0  0  0  0]\n",
      " [ 0  0  0  0  0  0  0  0]\n",
      " [ 0  0  0  0  0  0  0  0]\n",
      " [ 0  0  0  0  0  0  0  0]\n",
      " [ 0  0  0  0  0  0  0  0]\n",
      " [ 0  0  0  0  0  0  0 -1]]\n"
     ]
    }
   ],
   "source": [
    "import numpy as np\n",
    "def generate_problem(n):\n",
    "    board = [[0]*n for i in range(n)]\n",
    "    board[n-1][n-1] = -1\n",
    "    return board\n",
    "board = generate_problem(8)\n",
    "print(np.matrix(board))"
   ]
  },
  {
   "cell_type": "code",
   "execution_count": 29,
   "id": "pointed-differential",
   "metadata": {},
   "outputs": [],
   "source": [
    "def cover(board, lab=1, top=0, left=0,side=None):\n",
    "    if not side: side = len(board)\n",
    "    s = side // 2\n",
    "    offsets = (0, -1), (side-1, 0)\n",
    "    for dy_outer, dy_inner in offsets:\n",
    "        for dx_outer, dx_inner in offsets:\n",
    "             if not board[top+dy_outer][left+dx_outer]:\n",
    "                    board[top+s+dy_inner][left+s+dx_inner] = lab\n",
    "    lab += 1\n",
    "    if s > 1:\n",
    "        for dy in [0, s]:\n",
    "            for dx in [0, s]:\n",
    "                lab = cover(board, lab, top+dy, left+dx, s)\n",
    "    return lab "
   ]
  },
  {
   "cell_type": "code",
   "execution_count": 30,
   "id": "rural-carbon",
   "metadata": {},
   "outputs": [
    {
     "name": "stdout",
     "output_type": "stream",
     "text": [
      "[[ 3  3  4  4  8  8  9  9]\n",
      " [ 3  2  2  4  8  7  7  9]\n",
      " [ 5  2  6  6 10 10  7 11]\n",
      " [ 5  5  6  1  1 10 11 11]\n",
      " [13 13 14  1 18 18 19 19]\n",
      " [13 12 14 14 18 17 17 19]\n",
      " [15 12 12 16 20 17 21 21]\n",
      " [15 15 16 16 20 20 21 -1]]\n"
     ]
    }
   ],
   "source": [
    "cover(board)\n",
    "print(np.matrix(board))"
   ]
  },
  {
   "cell_type": "markdown",
   "id": "original-payment",
   "metadata": {},
   "source": [
    "## TopSort in DAGs"
   ]
  },
  {
   "cell_type": "code",
   "execution_count": 100,
   "id": "further-olive",
   "metadata": {},
   "outputs": [],
   "source": [
    "def topsort(G):\n",
    "    visited = [False]*len(G)\n",
    "    stack =[]\n",
    "\n",
    "    for i in range(len(G)):\n",
    "        if visited[i] == False:\n",
    "                topsort_util(i,visited,stack)\n",
    "    return stack\n",
    "\n",
    "def topsort_util(v,visited,stack):\n",
    "        visited[v] = True\n",
    "        for idx,i in enumerate(G[v]):\n",
    "            if i==1:\n",
    "                if visited[idx] == False:\n",
    "                    topsort_util(idx,visited,stack)\n",
    "        stack.insert(0,v)\n",
    "\n",
    "            "
   ]
  },
  {
   "cell_type": "code",
   "execution_count": 108,
   "id": "contemporary-thought",
   "metadata": {},
   "outputs": [
    {
     "data": {
      "text/plain": [
       "defaultdict(list, {0: [0], 1: [0, 3], 2: [0, 2, 3], 3: [0, 3], 4: [2, 3]})"
      ]
     },
     "execution_count": 108,
     "metadata": {},
     "output_type": "execute_result"
    }
   ],
   "source": [
    "g.graph"
   ]
  },
  {
   "cell_type": "code",
   "execution_count": 110,
   "id": "hearing-people",
   "metadata": {},
   "outputs": [],
   "source": [
    "def naive_topsort(G, S=None): \n",
    "\n",
    "    if S is None: S = set(G) # Default: All nodes\n",
    "    if len(S) == 1: return list(S) # Base case, single node\n",
    "    v = S.pop() # Reduction: Remove a node\n",
    "    seq = naive_topsort(G, S) # Recursion (assumption), n-1\n",
    "    min_i = 0\n",
    "    for i, u in enumerate(seq):\n",
    "        if v in G[u] : min_i = i+1 # After all dependencies\n",
    "    seq.insert(min_i, v)\n",
    "    return seq"
   ]
  },
  {
   "cell_type": "code",
   "execution_count": 114,
   "id": "simple-somerset",
   "metadata": {},
   "outputs": [
    {
     "data": {
      "text/plain": [
       "[1, 4, 2, 3, 0]"
      ]
     },
     "execution_count": 114,
     "metadata": {},
     "output_type": "execute_result"
    }
   ],
   "source": [
    "naive_topsort(g.graph)"
   ]
  },
  {
   "cell_type": "code",
   "execution_count": 113,
   "id": "accompanied-congo",
   "metadata": {},
   "outputs": [
    {
     "name": "stdout",
     "output_type": "stream",
     "text": [
      "[4, 2, 1, 3, 0]\n"
     ]
    }
   ],
   "source": [
    "g.topologicalSort()"
   ]
  },
  {
   "cell_type": "code",
   "execution_count": 60,
   "id": "coastal-chess",
   "metadata": {},
   "outputs": [],
   "source": [
    "import random\n",
    "def generate_problem(n):\n",
    "    return {i:[random.randint(0,1) for _ in range(n)] for i in range(n)}"
   ]
  },
  {
   "cell_type": "code",
   "execution_count": 102,
   "id": "affecting-national",
   "metadata": {
    "scrolled": true
   },
   "outputs": [
    {
     "data": {
      "text/plain": [
       "{0: [1, 0, 0, 1, 0],\n",
       " 1: [1, 1, 0, 1, 1],\n",
       " 2: [1, 1, 0, 1, 0],\n",
       " 3: [0, 1, 0, 0, 0],\n",
       " 4: [1, 0, 0, 1, 1]}"
      ]
     },
     "execution_count": 102,
     "metadata": {},
     "output_type": "execute_result"
    }
   ],
   "source": [
    "G = generate_problem(5)\n",
    "G"
   ]
  },
  {
   "cell_type": "code",
   "execution_count": 104,
   "id": "hourly-removal",
   "metadata": {},
   "outputs": [
    {
     "data": {
      "text/plain": [
       "[2, 0, 3, 1, 4]"
      ]
     },
     "execution_count": 104,
     "metadata": {},
     "output_type": "execute_result"
    }
   ],
   "source": [
    "topsort(G)"
   ]
  },
  {
   "cell_type": "code",
   "execution_count": null,
   "id": "freelance-output",
   "metadata": {},
   "outputs": [],
   "source": [
    "nai"
   ]
  }
 ],
 "metadata": {
  "kernelspec": {
   "display_name": "Python 3",
   "language": "python",
   "name": "python3"
  },
  "language_info": {
   "codemirror_mode": {
    "name": "ipython",
    "version": 3
   },
   "file_extension": ".py",
   "mimetype": "text/x-python",
   "name": "python",
   "nbconvert_exporter": "python",
   "pygments_lexer": "ipython3",
   "version": "3.9.2"
  }
 },
 "nbformat": 4,
 "nbformat_minor": 5
}
