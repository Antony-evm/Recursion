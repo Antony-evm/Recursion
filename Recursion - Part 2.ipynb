{
 "cells": [
  {
   "cell_type": "markdown",
   "id": "requested-romantic",
   "metadata": {},
   "source": [
    "## Checker Board Puzzle\n",
    "\n",
    "How do you cover a checkerboard that has one corner square missing, using L-shaped tiles?"
   ]
  },
  {
   "cell_type": "code",
   "execution_count": 28,
   "id": "formed-demographic",
   "metadata": {},
   "outputs": [
    {
     "name": "stdout",
     "output_type": "stream",
     "text": [
      "[[ 0  0  0  0  0  0  0  0]\n",
      " [ 0  0  0  0  0  0  0  0]\n",
      " [ 0  0  0  0  0  0  0  0]\n",
      " [ 0  0  0  0  0  0  0  0]\n",
      " [ 0  0  0  0  0  0  0  0]\n",
      " [ 0  0  0  0  0  0  0  0]\n",
      " [ 0  0  0  0  0  0  0  0]\n",
      " [ 0  0  0  0  0  0  0 -1]]\n"
     ]
    }
   ],
   "source": [
    "import numpy as np\n",
    "def generate_problem(n):\n",
    "    board = [[0]*n for i in range(n)]\n",
    "    board[n-1][n-1] = -1\n",
    "    return board\n",
    "board = generate_problem(8)\n",
    "print(np.matrix(board))"
   ]
  },
  {
   "cell_type": "code",
   "execution_count": 29,
   "id": "natural-sword",
   "metadata": {},
   "outputs": [],
   "source": [
    "def cover(board, lab=1, top=0, left=0,side=None):\n",
    "    if not side: side = len(board)\n",
    "    s = side // 2\n",
    "    offsets = (0, -1), (side-1, 0)\n",
    "    for dy_outer, dy_inner in offsets:\n",
    "        for dx_outer, dx_inner in offsets:\n",
    "             if not board[top+dy_outer][left+dx_outer]:\n",
    "                    board[top+s+dy_inner][left+s+dx_inner] = lab\n",
    "    lab += 1\n",
    "    if s > 1:\n",
    "        for dy in [0, s]:\n",
    "            for dx in [0, s]:\n",
    "                lab = cover(board, lab, top+dy, left+dx, s)\n",
    "    return lab "
   ]
  },
  {
   "cell_type": "code",
   "execution_count": 30,
   "id": "molecular-faculty",
   "metadata": {},
   "outputs": [
    {
     "name": "stdout",
     "output_type": "stream",
     "text": [
      "[[ 3  3  4  4  8  8  9  9]\n",
      " [ 3  2  2  4  8  7  7  9]\n",
      " [ 5  2  6  6 10 10  7 11]\n",
      " [ 5  5  6  1  1 10 11 11]\n",
      " [13 13 14  1 18 18 19 19]\n",
      " [13 12 14 14 18 17 17 19]\n",
      " [15 12 12 16 20 17 21 21]\n",
      " [15 15 16 16 20 20 21 -1]]\n"
     ]
    }
   ],
   "source": [
    "cover(board)\n",
    "print(np.matrix(board))"
   ]
  },
  {
   "cell_type": "markdown",
   "id": "personalized-validity",
   "metadata": {},
   "source": [
    "## TopSort in DAGs"
   ]
  },
  {
   "cell_type": "code",
   "execution_count": 100,
   "id": "blocked-genetics",
   "metadata": {},
   "outputs": [],
   "source": [
    "def topsort(G):\n",
    "    visited = [False]*len(G)\n",
    "    stack =[]\n",
    "\n",
    "    for i in range(len(G)):\n",
    "        if visited[i] == False:\n",
    "                topsort_util(i,visited,stack)\n",
    "    return stack\n",
    "\n",
    "def topsort_util(v,visited,stack):\n",
    "        visited[v] = True\n",
    "        for idx,i in enumerate(G[v]):\n",
    "            if i==1:\n",
    "                if visited[idx] == False:\n",
    "                    topsort_util(idx,visited,stack)\n",
    "        stack.insert(0,v)\n",
    "\n",
    "            "
   ]
  },
  {
   "cell_type": "code",
   "execution_count": 60,
   "id": "searching-publisher",
   "metadata": {},
   "outputs": [],
   "source": [
    "import random\n",
    "def generate_problem(n):\n",
    "    return {i:[random.randint(0,1) for _ in range(n)] for i in range(n)}"
   ]
  },
  {
   "cell_type": "code",
   "execution_count": 102,
   "id": "entitled-stopping",
   "metadata": {
    "scrolled": true
   },
   "outputs": [
    {
     "data": {
      "text/plain": [
       "{0: [1, 0, 0, 1, 0],\n",
       " 1: [1, 1, 0, 1, 1],\n",
       " 2: [1, 1, 0, 1, 0],\n",
       " 3: [0, 1, 0, 0, 0],\n",
       " 4: [1, 0, 0, 1, 1]}"
      ]
     },
     "execution_count": 102,
     "metadata": {},
     "output_type": "execute_result"
    }
   ],
   "source": [
    "G = generate_problem(5)\n",
    "G"
   ]
  },
  {
   "cell_type": "code",
   "execution_count": 104,
   "id": "steady-metropolitan",
   "metadata": {},
   "outputs": [
    {
     "data": {
      "text/plain": [
       "[2, 0, 3, 1, 4]"
      ]
     },
     "execution_count": 104,
     "metadata": {},
     "output_type": "execute_result"
    }
   ],
   "source": [
    "topsort(G)"
   ]
  },
  {
   "cell_type": "code",
   "execution_count": null,
   "id": "infinite-publication",
   "metadata": {},
   "outputs": [],
   "source": []
  }
 ],
 "metadata": {
  "kernelspec": {
   "display_name": "Python 3",
   "language": "python",
   "name": "python3"
  },
  "language_info": {
   "codemirror_mode": {
    "name": "ipython",
    "version": 3
   },
   "file_extension": ".py",
   "mimetype": "text/x-python",
   "name": "python",
   "nbconvert_exporter": "python",
   "pygments_lexer": "ipython3",
   "version": "3.9.2"
  }
 },
 "nbformat": 4,
 "nbformat_minor": 5
}
